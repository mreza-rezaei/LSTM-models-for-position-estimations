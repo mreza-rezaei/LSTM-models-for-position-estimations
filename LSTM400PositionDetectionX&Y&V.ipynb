{
 "cells": [
  {
   "cell_type": "markdown",
   "metadata": {},
   "source": [
    "## A LSTM for 2D position estimatin  "
   ]
  },
  {
   "cell_type": "markdown",
   "metadata": {},
   "source": [
    "### import packages\n",
    "1- `matplotlip ` for drwaing results\n",
    "\n",
    "2- `numpy` numerical computation\n",
    "\n",
    "3- `Tensorflow & Keras` machine learning libraries \n"
   ]
  },
  {
   "cell_type": "code",
   "execution_count": 1,
   "metadata": {},
   "outputs": [
    {
     "name": "stderr",
     "output_type": "stream",
     "text": [
      "Using TensorFlow backend.\n"
     ]
    }
   ],
   "source": [
    "%matplotlib inline\n",
    "# %pylab osx\n",
    "import tensorflow as tf\n",
    "import numpy as np\n",
    "import matplotlib.pyplot as plt\n",
    "import keras\n",
    "from keras.layers import Dense, Dropout, Activation, Flatten\n",
    "from keras.layers import Conv2D, MaxPooling1D,UpSampling1D,Reshape,Conv1D\n",
    "import scipy.io as spio\n",
    "import os\n",
    "import pickle\n",
    "from keras.models import Sequential, Model\n",
    "from keras.layers import Dense, Dropout, TimeDistributed, Bidirectional, Input,LSTM,GRU,ConvLSTM2D\n",
    "from keras.utils.test_utils import keras_test\n",
    "# Some additional libraries which we'll use just\n",
    "# to produce some visualizations of our training\n",
    "\n",
    "import IPython.display as ipyd\n",
    "plt.style.use('ggplot')"
   ]
  },
  {
   "cell_type": "markdown",
   "metadata": {
    "collapsed": true
   },
   "source": [
    "### definition of Functions"
   ]
  },
  {
   "cell_type": "code",
   "execution_count": 2,
   "metadata": {
    "collapsed": true
   },
   "outputs": [],
   "source": [
    "###$$ GET_SPIKES_WITH_HISTORY #####\n",
    "def get_spikes_with_history(neural_data,bins_before,bins_after,bins_current=1):\n",
    "    \"\"\"\n",
    "    Function that creates the covariate matrix of neural activity\n",
    "\n",
    "    Parameters\n",
    "    ----------\n",
    "    neural_data: a matrix of size \"number of time bins\" x \"number of neurons\"\n",
    "        the number of spikes in each time bin for each neuron\n",
    "    bins_before: integer\n",
    "        How many bins of neural data prior to the output are used for decoding\n",
    "    bins_after: integer\n",
    "        How many bins of neural data after the output are used for decoding\n",
    "    bins_current: 0 or 1, optional, default=1\n",
    "        Whether to use the concurrent time bin of neural data for decoding\n",
    "\n",
    "    Returns\n",
    "    -------\n",
    "    X: a matrix of size \"number of total time bins\" x \"number of surrounding time bins used for prediction\" x \"number of neurons\"\n",
    "        For every time bin, there are the firing rates of all neurons from the specified number of time bins before (and after)\n",
    "    \"\"\"\n",
    "\n",
    "    num_examples=neural_data.shape[0] #Number of total time bins we have neural data for\n",
    "    num_neurons=neural_data.shape[1] #Number of neurons\n",
    "    surrounding_bins=bins_before+bins_after+bins_current #Number of surrounding time bins used for prediction\n",
    "    X=np.empty([num_examples,surrounding_bins,num_neurons]) #Initialize covariate matrix with NaNs\n",
    "    X[:] = 0\n",
    "    #Loop through each time bin, and collect the spikes occurring in surrounding time bins\n",
    "    #Note that the first \"bins_before\" and last \"bins_after\" rows of X will remain filled with NaNs, since they don't get filled in below.\n",
    "    #This is because, for example, we cannot collect 10 time bins of spikes before time bin 8\n",
    "    start_idx=0\n",
    "    for i in range(num_examples-bins_before-bins_after): #The first bins_before and last bins_after bins don't get filled in\n",
    "        end_idx=start_idx+surrounding_bins; #The bins of neural data we will be including are between start_idx and end_idx (which will have length \"surrounding_bins\")\n",
    "        X[i+bins_before,:,:]=neural_data[start_idx:end_idx,:] #Put neural data from surrounding bins in X, starting at row \"bins_before\"\n",
    "        start_idx=start_idx+1;\n",
    "    return X"
   ]
  },
  {
   "cell_type": "code",
   "execution_count": 3,
   "metadata": {
    "collapsed": true
   },
   "outputs": [],
   "source": [
    "def distance2(p0,p1):\n",
    "    \n",
    "    return ((p0[0] - p1[0])**2 + (p0[1] - p1[1])**2)\n",
    "\n",
    "def distance(p0,p1):\n",
    "    \n",
    "    return ((p0 - p1)**2)"
   ]
  },
  {
   "cell_type": "markdown",
   "metadata": {},
   "source": [
    "### import and preprocessing data\n",
    "Neural data should be a matrix of size \"number of time bins\" x \"number of neurons\", where each entry is the firing rate of a given neuron in a given time bin\n",
    "\n",
    "The output  should be a matrix of size \"number of time bins\" x \"number of features for decoding\"\n"
   ]
  },
  {
   "cell_type": "code",
   "execution_count": 4,
   "metadata": {},
   "outputs": [
    {
     "name": "stdout",
     "output_type": "stream",
     "text": [
      "Train data shape:  (23209, 61, 62)\n",
      "Train labels shape:  (23209, 4)\n"
     ]
    }
   ],
   "source": [
    " path='MS.mat'\n",
    "mat=spio.loadmat(path,squeeze_me=True)\n",
    "x_data=mat['MSTrain'][:,1:63].astype('float32')\n",
    "y_data=mat['MSTrain'][:,63:67].astype('float32')\n",
    "bins_before=60 #How many bins of neural data prior to the output are used for decoding\n",
    "bins_current=1 #Whether to use concurrent time bin of neural data\n",
    "bins_after=0 #How many bins of neural data after the output are used for decoding\n",
    "# Format for recurrent neural networks (SimpleRNN, GRU, LSTM)\n",
    "# Function to get the covariate matrix that includes spike history from previous bins\n",
    "X=get_spikes_with_history(x_data,bins_before,bins_after,bins_current)\n",
    "X_train=X\n",
    "  \n",
    "y_data2=np.divide(y_data-np.mean(y_data,axis=0),np.std(y_data,axis=0))\n",
    "#y_data2[:,2]=np.divide(y_data[:,2],32)\n",
    "#y_data2[:,3]=np.divide(y_data[:,3],50)\n",
    "y_train=y_data2\n",
    "print ('Train data shape: ', X_train.shape)\n",
    "print ('Train labels shape: ', y_train.shape)"
   ]
  },
  {
   "cell_type": "markdown",
   "metadata": {},
   "source": [
    "### plot training data"
   ]
  },
  {
   "cell_type": "code",
   "execution_count": 5,
   "metadata": {},
   "outputs": [
    {
     "data": {
      "text/plain": [
       "<matplotlib.text.Text at 0x7f900ad76eb8>"
      ]
     },
     "execution_count": 5,
     "metadata": {},
     "output_type": "execute_result"
    },
    {
     "data": {
      "image/png": "[encoded data removed]",
      "text/plain": [
       "<matplotlib.figure.Figure at 0x7f90359422e8>"
      ]
     },
     "metadata": {},
     "output_type": "display_data"
    }
   ],
   "source": [
    "\n",
    "plt.figure(num=None, figsize=(12, 6))\n",
    "\n",
    "plt1=plt.plot(X_train[:,0,61],'b',label=\"X_train data\")\n",
    "\n",
    "\n",
    "plt.plot(y_train[:,3],'r',label=\"y_train data\")\n",
    "\n",
    "plt.legend(loc=4)\n",
    "plt.title('train data visualization')"
   ]
  },
  {
   "cell_type": "markdown",
   "metadata": {},
   "source": [
    "### create LSTM model\n",
    "in this problem we use 100 node LSTM with input Dims 61 X 62 [time step,neurons] and a full connected network 62 X 2 for  2D position prediction\n",
    "\n",
    "the optimizer is `` RMSPROP`` with learning rate 0.0001 and ``MSE`` loss"
   ]
  },
  {
   "cell_type": "code",
   "execution_count": 6,
   "metadata": {
    "collapsed": true
   },
   "outputs": [],
   "source": [
    " model=Sequential() #Declare model\n",
    "        #Add recurrent layer\n",
    "model.add(LSTM(400,input_shape=(X_train.shape[1],X_train.shape[2]),return_sequences=False,activation='tanh')) #Within recurrent layer, include dropout\n",
    "\n",
    "model.add(Dense(X_train.shape[2]))  \n",
    "model.add(Dense(X_train.shape[2]))\n",
    "\n",
    "model.add(Dense(y_train.shape[1]))\n",
    "#Fit model (and set fitting parameters)\n",
    "opt = keras.optimizers.rmsprop(lr=0.001, decay=1e-6)\n",
    "# Let's train the model using RMSprop\n",
    "model.compile(loss='mse',\n",
    "              optimizer=opt)"
   ]
  },
  {
   "cell_type": "markdown",
   "metadata": {},
   "source": [
    "### define a name and address for saving trained model"
   ]
  },
  {
   "cell_type": "code",
   "execution_count": 7,
   "metadata": {
    "collapsed": true
   },
   "outputs": [],
   "source": [
    "\n",
    "save_dir = os.path.join(os.getcwd(), 'saved_models')\n",
    "model_name = 'LSTM400P&V.h5'\n",
    "\n"
   ]
  },
  {
   "cell_type": "markdown",
   "metadata": {},
   "source": [
    "### import pretrained network\n",
    "\n",
    "useit wen you want test the network"
   ]
  },
  {
   "cell_type": "code",
   "execution_count": null,
   "metadata": {
    "collapsed": true
   },
   "outputs": [],
   "source": [
    "path='saved_models/LSTM400P&V.h5'\n",
    "#\n",
    "#model.load_weights(path)"
   ]
  },
  {
   "cell_type": "markdown",
   "metadata": {},
   "source": [
    "### train the model for 100 iterations with batch_size 512"
   ]
  },
  {
   "cell_type": "code",
   "execution_count": null,
   "metadata": {},
   "outputs": [
    {
     "name": "stdout",
     "output_type": "stream",
     "text": [
      "Epoch 1/10\n",
      "23209/23209 [==============================] - 331s - loss: 0.8144   \n",
      "Epoch 2/10\n",
      "23209/23209 [==============================] - 394s - loss: 0.4616   \n",
      "Epoch 3/10\n",
      " 8192/23209 [=========>....................] - ETA: 251s - loss: 0.3780"
     ]
    }
   ],
   "source": [
    " model.fit(X_train,y_train,epochs=10,verbose=1,batch_size=512)"
   ]
  },
  {
   "cell_type": "markdown",
   "metadata": {},
   "source": [
    "### saving trained model"
   ]
  },
  {
   "cell_type": "code",
   "execution_count": null,
   "metadata": {
    "scrolled": true
   },
   "outputs": [],
   "source": [
    "# Save model and weights\n",
    "if not os.path.isdir(save_dir):\n",
    "    os.makedirs(save_dir)\n",
    "model_path = os.path.join(save_dir, model_name)\n",
    "model.save(model_path)\n",
    "print('Saved trained model at %s ' % model_path)\n",
    "\n",
    "\n",
    "\n",
    "\n"
   ]
  },
  {
   "cell_type": "markdown",
   "metadata": {},
   "source": [
    "### import test path data"
   ]
  },
  {
   "cell_type": "code",
   "execution_count": null,
   "metadata": {},
   "outputs": [],
   "source": [
    "\n",
    "x_data=mat['MSTest'][:,1:63].astype('float32')\n",
    "y_data=mat['MSTest'][:,63:67].astype('float32')\n",
    "\n",
    "# Format for recurrent neural networks (SimpleRNN, GRU, LSTM)\n",
    "# Function to get the covariate matrix that includes spike history from previous bins\n",
    "Xt=get_spikes_with_history(x_data,bins_before,bins_after,bins_current)\n",
    "\n",
    "#y_data2=np.divide(y_data-np.mean(y_data,axis=0),np.std(y_data,axis=0))\n",
    "X_test=Xt\n",
    "y_test=y_data\n",
    "print ('Test data shape: ', X_test.shape)\n",
    "print ('Test labels shape: ', y_test.shape)"
   ]
  },
  {
   "cell_type": "markdown",
   "metadata": {},
   "source": [
    "### eval the trained model on test path and rescale data to original"
   ]
  },
  {
   "cell_type": "code",
   "execution_count": null,
   "metadata": {
    "collapsed": true
   },
   "outputs": [],
   "source": [
    "#Get predictions\n",
    "y_valid_predicted_lstm=model.predict(X_test)\n",
    "#y_valid_predicted_lstm[:,2]=np.multiply(y_valid_predicted_lstm[:,2],32)\n",
    "#y_valid_predicted_lstm[:,3]=np.multiply(y_valid_predicted_lstm[:,3],50)\n",
    "y_predic=y_valid_predicted_lstm*np.std(y_data,axis=0)+np.mean(y_data,axis=0)\n"
   ]
  },
  {
   "cell_type": "markdown",
   "metadata": {},
   "source": [
    "### calculate RMSE and 2d distance for X,Y Test path"
   ]
  },
  {
   "cell_type": "code",
   "execution_count": null,
   "metadata": {},
   "outputs": [],
   "source": [
    "\n",
    "rmsX=np.zeros(y_test.shape[0])\n",
    "rmsY=np.zeros(y_test.shape[0])\n",
    "a=np.zeros(y_test.shape[0])\n",
    "for i in range(y_test.shape[0]):\n",
    "    rmsX[i] = np.mean(distance(y_test[i,0], y_predic[i,0]))\n",
    "    rmsY[i] = np.mean(distance(y_test[i,1], y_predic[i,1]))\n",
    "    a[i]=distance2(y_test[i,:], y_predic[i,:])\n",
    "rmsX=np.sqrt(np.mean(rmsX))\n",
    "rmsY=np.sqrt(np.mean(rmsY))\n",
    "a=np.sqrt(np.mean(a))\n",
    "print('RMSE Estmation X=%f'%rmsX)\n",
    "\n",
    "print('RMSE Estmation Y=%f'%rmsY)\n",
    "print('2D Distance=%f'%a)"
   ]
  },
  {
   "cell_type": "markdown",
   "metadata": {},
   "source": [
    "### plot and save prediction Y test path"
   ]
  },
  {
   "cell_type": "code",
   "execution_count": null,
   "metadata": {},
   "outputs": [],
   "source": [
    "#As an example, I plot an example 1000 values of the x velocity (column index 0), both true and predicted with the Wiener filter\n",
    "#Note that I add back in the mean value, so that both true and predicted values are in the original coordinates\n",
    "plt.figure(num=None, figsize=(12, 6))\n",
    "\n",
    "plt1=plt.plot(y_predic[:,1],'b',label=\"EstimatedTestPath-Y\")\n",
    "\n",
    "\n",
    "plt.plot(y_test[:,1],'r',label=\"TestPath-Y\")\n",
    "\n",
    "plt.legend(loc=4)\n",
    "plt.title('Estimate position Y with RMSE=%f'%rmsY)\n",
    "plt.savefig('EstimatedTestPath-Y.png',format='png', dpi=1000,transparent=False)"
   ]
  },
  {
   "cell_type": "markdown",
   "metadata": {},
   "source": [
    "### plot and save prediction X Test path"
   ]
  },
  {
   "cell_type": "code",
   "execution_count": null,
   "metadata": {},
   "outputs": [],
   "source": [
    "#As an example, I plot an example 1000 values of the x velocity (column index 0), both true and predicted with the Wiener filter\n",
    "#Note that I add back in the mean value, so that both true and predicted values are in the original coordinates\n",
    "plt.figure(num=None, figsize=(12, 6))\n",
    "\n",
    "plt1=plt.plot(y_predic[:,0],'b',label=\"EstimatedTestPath-X\")\n",
    "\n",
    "\n",
    "plt.plot(y_test[:,0],'r',label=\"TestPath-X\")\n",
    "\n",
    "plt.legend(loc=4)\n",
    "plt.title('Estimate position X with RMSE=%f'%rmsX)\n",
    "\n",
    "#Save figure\n",
    "plt.savefig('EstimatedTestPath-X.png',format='png', dpi=1000,transparent=False)"
   ]
  },
  {
   "cell_type": "markdown",
   "metadata": {},
   "source": [
    "### import train path data for plot"
   ]
  },
  {
   "cell_type": "code",
   "execution_count": null,
   "metadata": {},
   "outputs": [],
   "source": [
    "\n",
    "x_data=mat['MSTrain'][:,1:63].astype('float32')\n",
    "y_data=mat['MSTrain'][:,63:67].astype('float32')\n",
    "\n",
    "y_train=y_data\n",
    "print ('Train data shape: ', X_train.shape)\n",
    "print ('Train labels shape: ', y_train.shape)\n",
    "y_predic=y_valid_predicted_lstm*np.std(y_data,axis=0)+np.mean(y_data,axis=0)\n"
   ]
  },
  {
   "cell_type": "markdown",
   "metadata": {},
   "source": [
    "### predict path and calculate RMSE and 2d distance for X,Y Train path"
   ]
  },
  {
   "cell_type": "code",
   "execution_count": null,
   "metadata": {
    "collapsed": true
   },
   "outputs": [],
   "source": [
    "y_valid_predicted_lstm=model.predict(X_train)\n",
    "\n",
    "y_predic=y_valid_predicted_lstm*np.std(y_data,axis=0)+np.mean(y_data,axis=0)\n",
    "rmsX=np.zeros(y_test.shape[0])\n",
    "rmsY=np.zeros(y_test.shape[0])\n",
    "a=np.zeros(y_test.shape[0])\n",
    "for i in range(y_test.shape[0]):\n",
    "    rmsX[i] = np.mean(distance(y_train[i,0], y_predic[i,0]))\n",
    "    rmsY[i] = np.mean(distance(y_train[i,1], y_predic[i,1]))\n",
    "    a[i]=distance2(y_train[i,:], y_predic[i,:])\n",
    "rmsX=np.sqrt(np.mean(rmsX))\n",
    "rmsY=np.sqrt(np.mean(rmsY))\n",
    "a=np.sqrt(np.mean(a))\n",
    "print('RMSE Estmation X=%f'%rmsX)\n",
    "\n",
    "print('RMSE Estmation Y=%f'%rmsY)\n",
    "print('2D Distance=%f'%a)"
   ]
  },
  {
   "cell_type": "markdown",
   "metadata": {},
   "source": [
    "### plot and save prediction Y Train path\n"
   ]
  },
  {
   "cell_type": "code",
   "execution_count": null,
   "metadata": {
    "collapsed": true
   },
   "outputs": [],
   "source": [
    "#As an example, I plot an example 1000 values of the x velocity (column index 0), both true and predicted with the Wiener filter\n",
    "#Note that I add back in the mean value, so that both true and predicted values are in the original coordinates\n",
    "plt.figure(num=None, figsize=(12, 6))\n",
    "\n",
    "plt1=plt.plot(y_predic[:,1],'b',label=\"EstimatedTrainPath-Y\")\n",
    "\n",
    "\n",
    "plt.plot(y_train[:,1],'r',label=\"TrainPath-Y\")\n",
    "\n",
    "plt.legend(loc=4)\n",
    "plt.title('Estimate position Y with RMSE=%f'%rmsY)\n",
    "plt.savefig('EstimatedTrainPath-Y.png',format='png', dpi=1000,transparent=False)"
   ]
  },
  {
   "cell_type": "markdown",
   "metadata": {},
   "source": [
    "### plot and save prediction X Train path\n"
   ]
  },
  {
   "cell_type": "code",
   "execution_count": null,
   "metadata": {
    "collapsed": true
   },
   "outputs": [],
   "source": [
    "#As an example, I plot an example 1000 values of the x velocity (column index 0), both true and predicted with the Wiener filter\n",
    "#Note that I add back in the mean value, so that both true and predicted values are in the original coordinates\n",
    "plt.figure(num=None, figsize=(12, 6))\n",
    "\n",
    "plt1=plt.plot(y_predic[:,0],'b',label=\"EstimatedTrainPath-X\")\n",
    "\n",
    "\n",
    "plt.plot(y_train[:,0],'r',label=\"TrainPath-X\")\n",
    "\n",
    "plt.legend(loc=4)\n",
    "plt.title('Estimate position X with RMSE=%f'%rmsX)\n",
    "\n",
    "#Save figure\n",
    "plt.savefig('EstimatedTrainPath-X.png',format='png', dpi=1000,transparent=False)"
   ]
  }
 ],
 "metadata": {
  "kernelspec": {
   "display_name": "Python 3",
   "language": "python",
   "name": "python3"
  },
  "language_info": {
   "codemirror_mode": {
    "name": "ipython",
    "version": 3
   },
   "file_extension": ".py",
   "mimetype": "text/x-python",
   "name": "python",
   "nbconvert_exporter": "python",
   "pygments_lexer": "ipython3",
   "version": "3.6.3"
  }
 },
 "nbformat": 4,
 "nbformat_minor": 2
}
